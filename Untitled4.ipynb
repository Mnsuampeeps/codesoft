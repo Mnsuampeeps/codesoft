{
  "nbformat": 4,
  "nbformat_minor": 0,
  "metadata": {
    "colab": {
      "provenance": []
    },
    "kernelspec": {
      "name": "python3",
      "display_name": "Python 3"
    },
    "language_info": {
      "name": "python"
    }
  },
  "cells": [
    {
      "cell_type": "code",
      "execution_count": 2,
      "metadata": {
        "id": "BhwEvOqiTZcF",
        "colab": {
          "base_uri": "https://localhost:8080/",
          "height": 1000
        },
        "outputId": "605016f0-8080-4a71-9539-60e39c5aebde"
      },
      "outputs": [
        {
          "output_type": "stream",
          "name": "stdout",
          "text": [
            "<class 'pandas.core.frame.DataFrame'>\n",
            "RangeIndex: 418 entries, 0 to 417\n",
            "Data columns (total 12 columns):\n",
            " #   Column       Non-Null Count  Dtype  \n",
            "---  ------       --------------  -----  \n",
            " 0   PassengerId  418 non-null    int64  \n",
            " 1   Survived     418 non-null    int64  \n",
            " 2   Pclass       418 non-null    int64  \n",
            " 3   Name         418 non-null    object \n",
            " 4   Sex          418 non-null    object \n",
            " 5   Age          332 non-null    float64\n",
            " 6   SibSp        418 non-null    int64  \n",
            " 7   Parch        418 non-null    int64  \n",
            " 8   Ticket       418 non-null    object \n",
            " 9   Fare         417 non-null    float64\n",
            " 10  Cabin        91 non-null     object \n",
            " 11  Embarked     418 non-null    object \n",
            "dtypes: float64(2), int64(5), object(5)\n",
            "memory usage: 39.3+ KB\n",
            "     Survived  Pclass  Sex       Age  SibSp  Parch      Fare  Embarked\n",
            "0           0       3    0  34.50000      0      0    7.8292         2\n",
            "1           1       3    1  47.00000      1      0    7.0000         0\n",
            "2           0       2    0  62.00000      0      0    9.6875         2\n",
            "3           0       3    0  27.00000      0      0    8.6625         0\n",
            "4           1       3    1  22.00000      1      1   12.2875         0\n",
            "..        ...     ...  ...       ...    ...    ...       ...       ...\n",
            "413         0       3    0  30.27259      0      0    8.0500         0\n",
            "414         1       1    1  39.00000      0      0  108.9000         1\n",
            "415         0       3    0  38.50000      0      0    7.2500         0\n",
            "416         0       3    0  30.27259      0      0    8.0500         0\n",
            "417         0       3    0  30.27259      1      1   22.3583         1\n",
            "\n",
            "[418 rows x 8 columns]\n",
            "0      0\n",
            "1      1\n",
            "2      0\n",
            "3      0\n",
            "4      1\n",
            "      ..\n",
            "413    0\n",
            "414    1\n",
            "415    0\n",
            "416    0\n",
            "417    0\n",
            "Name: Survived, Length: 418, dtype: int64\n",
            "(418, 8) (334, 8) (84, 8)\n",
            "[1 1 0 0 1 1 0 0 0 1 0 0 1 0 0 0 1 0 1 0 1 0 1 1 0 0 0 0 0 1 0 0 0 0 0 0 0\n",
            " 1 1 1 0 0 0 1 0 0 0 1 0 1 0 0 0 0 0 0 0 0 1 0 0 0 1 0 0 1 0 1 0 1 1 1 0 1\n",
            " 0 1 0 0 0 0 0 0 0 0 0 0 0 1 1 0 1 1 0 1 0 0 0 0 0 0 0 1 0 1 1 1 0 1 0 1 0\n",
            " 1 1 0 0 0 0 1 1 0 1 0 0 1 1 0 1 0 0 0 0 0 0 1 0 0 1 0 0 1 0 0 1 0 1 1 0 0\n",
            " 0 0 1 1 1 0 0 1 1 0 1 1 0 0 0 0 0 0 0 1 1 0 0 1 1 1 1 0 1 0 0 0 0 1 0 1 1\n",
            " 1 0 1 0 0 0 1 0 0 0 1 0 1 0 0 0 0 0 0 0 1 1 1 1 0 0 0 0 1 0 0 1 0 0 1 0 0\n",
            " 1 0 1 0 0 0 0 0 1 0 0 0 1 1 0 0 0 1 1 0 1 0 0 0 0 0 1 0 0 0 0 0 1 0 0 0 1\n",
            " 0 1 1 1 1 0 0 0 1 1 0 0 1 0 1 1 0 0 0 0 1 0 0 0 0 0 1 0 0 1 1 0 1 1 0 0 0\n",
            " 0 0 0 0 1 0 0 0 0 0 1 0 1 0 0 0 0 0 0 0 0 0 1 0 0 0 1 1 0 1 1 0 0 0 1 1 1\n",
            " 1]\n",
            "Accuracy Score of training data:  1.0\n",
            "[0 0 0 1 1 0 1 0 0 1 0 1 1 0 1 0 0 0 0 0 0 0 0 0 1 1 0 1 0 0 1 1 0 1 0 0 1\n",
            " 1 0 0 0 0 1 1 0 0 1 0 1 0 0 0 1 1 1 0 0 1 0 0 0 0 0 0 1 0 1 1 1 1 1 1 0 0\n",
            " 0 1 1 0 1 0 0 0 0 0]\n"
          ]
        },
        {
          "output_type": "display_data",
          "data": {
            "text/plain": [
              "<Figure size 640x480 with 1 Axes>"
            ],
            "image/png": "[encoded data removed]"
          },
          "metadata": {}
        }
      ],
      "source": [
        "import pandas as pd\n",
        "import numpy as np\n",
        "import matplotlib.pyplot as plt\n",
        "import seaborn as sns\n",
        "from sklearn.model_selection import train_test_split\n",
        "from sklearn.linear_model import LogisticRegression\n",
        "from sklearn.metrics import accuracy_score\n",
        "data=pd.read_csv(\"test.csv\")\n",
        "data\n",
        "data.shape\n",
        "data.info()\n",
        "data.isnull().sum()\n",
        "data=data.drop(columns='Cabin',axis=1)\n",
        "data['Age'].fillna(data['Age'].mean(),inplace=True)\n",
        "data['Embarked'].fillna(data['Embarked'].mode()[0],inplace=True)\n",
        "data['Fare'].fillna(data['Fare'].mode()[0],inplace=True)\n",
        "data.isnull().sum().sum()\n",
        "data['Survived'].value_counts()\n",
        "data.describe()\n",
        "sns.set()\n",
        "sns.countplot(x='Survived',data=data)\n",
        "sns.countplot(x='Sex',data=data)\n",
        "sns.countplot(x='Sex',hue='Survived',data=data)\n",
        "sns.countplot(x='Pclass',data=data)\n",
        "sns.countplot(x='Pclass',hue='Survived',data=data)\n",
        "data['Sex'].value_counts()\n",
        "data['Embarked'].value_counts()\n",
        "data.replace({'Sex':{'male':0,'female':1},'Embarked':{'S':0,'C':1,'Q':2}},inplace=True)\n",
        "data\n",
        "X=data.drop(columns=['PassengerId','Name','Ticket'],axis=1)\n",
        "Y=data['Survived']\n",
        "print(X)\n",
        "print(Y)\n",
        "X_train,X_test,Y_train,Y_test=train_test_split(X,Y,test_size=0.2,random_state=2)\n",
        "print(X.shape,X_train.shape,X_test.shape)\n",
        "model=LogisticRegression()\n",
        "model.fit(X_train,Y_train)\n",
        "X_train_prediction=model.predict(X_train)\n",
        "print(X_train_prediction)\n",
        "train_data_accuracy=accuracy_score(Y_train,X_train_prediction)\n",
        "print(\"Accuracy Score of training data: \",train_data_accuracy)\n",
        "X_test_prediction=model.predict(X_test)\n",
        "print(X_test_prediction)\n"
      ]
    },
    {
      "cell_type": "code",
      "source": [
        "test_data_accuracy=accuracy_score(Y_test,X_test_prediction)\n",
        "print(\"Accuracy score of testing data:\",test_data_accuracy)"
      ],
      "metadata": {
        "colab": {
          "base_uri": "https://localhost:8080/"
        },
        "id": "_d8sZrKYVALs",
        "outputId": "7623e6b5-78cd-4c98-dd39-479cee949427"
      },
      "execution_count": 3,
      "outputs": [
        {
          "output_type": "stream",
          "name": "stdout",
          "text": [
            "Accuracy score of testing data: 1.0\n"
          ]
        }
      ]
    }
  ]
}